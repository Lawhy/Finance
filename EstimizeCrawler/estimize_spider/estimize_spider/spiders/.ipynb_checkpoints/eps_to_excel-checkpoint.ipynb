{
 "cells": [
  {
   "cell_type": "code",
   "execution_count": 1,
   "metadata": {},
   "outputs": [],
   "source": [
    "import pandas as pd"
   ]
  },
  {
   "cell_type": "code",
   "execution_count": 29,
   "metadata": {},
   "outputs": [],
   "source": [
    "raw_1 = pd.read_json('results_1.json')\n",
    "raw_2 = pd.read_json('results_2.json')\n",
    "tickers = pd.read_excel('data/tickers.xlsx')\n",
    "tickers = tickers['ticker'].apply(lambda x: str(x).lower()).tolist()"
   ]
  },
  {
   "cell_type": "code",
   "execution_count": 23,
   "metadata": {},
   "outputs": [
    {
     "data": {
      "text/html": [
       "<div>\n",
       "<style scoped>\n",
       "    .dataframe tbody tr th:only-of-type {\n",
       "        vertical-align: middle;\n",
       "    }\n",
       "\n",
       "    .dataframe tbody tr th {\n",
       "        vertical-align: top;\n",
       "    }\n",
       "\n",
       "    .dataframe thead th {\n",
       "        text-align: right;\n",
       "    }\n",
       "</style>\n",
       "<table border=\"1\" class=\"dataframe\">\n",
       "  <thead>\n",
       "    <tr style=\"text-align: right;\">\n",
       "      <th></th>\n",
       "      <th>actual_eps</th>\n",
       "      <th>fq</th>\n",
       "      <th>ticker</th>\n",
       "      <th>year</th>\n",
       "    </tr>\n",
       "  </thead>\n",
       "  <tbody>\n",
       "    <tr>\n",
       "      <th>0</th>\n",
       "      <td>0.69</td>\n",
       "      <td>1</td>\n",
       "      <td>a</td>\n",
       "      <td>2012</td>\n",
       "    </tr>\n",
       "    <tr>\n",
       "      <th>2058</th>\n",
       "      <td>0.78</td>\n",
       "      <td>2</td>\n",
       "      <td>a</td>\n",
       "      <td>2012</td>\n",
       "    </tr>\n",
       "    <tr>\n",
       "      <th>4135</th>\n",
       "      <td>0.79</td>\n",
       "      <td>3</td>\n",
       "      <td>a</td>\n",
       "      <td>2012</td>\n",
       "    </tr>\n",
       "    <tr>\n",
       "      <th>6222</th>\n",
       "      <td>0.86</td>\n",
       "      <td>4</td>\n",
       "      <td>a</td>\n",
       "      <td>2012</td>\n",
       "    </tr>\n",
       "    <tr>\n",
       "      <th>8493</th>\n",
       "      <td>0.63</td>\n",
       "      <td>1</td>\n",
       "      <td>a</td>\n",
       "      <td>2013</td>\n",
       "    </tr>\n",
       "  </tbody>\n",
       "</table>\n",
       "</div>"
      ],
      "text/plain": [
       "      actual_eps  fq ticker  year\n",
       "0           0.69   1      a  2012\n",
       "2058        0.78   2      a  2012\n",
       "4135        0.79   3      a  2012\n",
       "6222        0.86   4      a  2012\n",
       "8493        0.63   1      a  2013"
      ]
     },
     "execution_count": 23,
     "metadata": {},
     "output_type": "execute_result"
    }
   ],
   "source": [
    "def df_for_ticker(ticker):\n",
    "    return raw_1[raw_1['ticker'] == ticker].append(raw_2[raw_2['ticker'] == ticker])\n",
    "df_for_ticker('a').head(5)"
   ]
  },
  {
   "cell_type": "code",
   "execution_count": 15,
   "metadata": {},
   "outputs": [
    {
     "data": {
      "text/plain": [
       "{'col': '2012-fq1', 'eps': 0.69}"
      ]
     },
     "execution_count": 15,
     "metadata": {},
     "output_type": "execute_result"
    }
   ],
   "source": [
    "def dp_to_cell(dp):\n",
    "    col = str(dp['year']) + '-fq' + str(dp['fq'])\n",
    "    eps = dp['actual_eps']\n",
    "    return {\n",
    "        'col': col,\n",
    "        'eps': round(eps, 2)\n",
    "    }     \n",
    "dp_to_cell(raw_1.loc[0])"
   ]
  },
  {
   "cell_type": "code",
   "execution_count": 21,
   "metadata": {},
   "outputs": [],
   "source": [
    "def gen_cols():\n",
    "    cols = []\n",
    "    for year in range(2012, 2020):\n",
    "        for fq in range(4):\n",
    "            fq += 1\n",
    "            cols.append(str(year) + '-fq' + str(fq))\n",
    "    return cols[:-3]"
   ]
  },
  {
   "cell_type": "code",
   "execution_count": 54,
   "metadata": {},
   "outputs": [],
   "source": [
    "result = pd.DataFrame(columns=gen_cols())\n",
    "for t in tickers:\n",
    "    df = df_for_ticker(str(t))\n",
    "    row = pd.DataFrame(columns=gen_cols(), index=[t])\n",
    "    for i, dp in df.iterrows():\n",
    "        col = dp_to_cell(dp)['col']\n",
    "        eps = dp_to_cell(dp)['eps']\n",
    "        row[col] = eps\n",
    "    result = result.append(row)"
   ]
  },
  {
   "cell_type": "code",
   "execution_count": 56,
   "metadata": {},
   "outputs": [],
   "source": [
    "result.to_excel('actual_eps.xlsx', encoding='UTF-8')"
   ]
  }
 ],
 "metadata": {
  "kernelspec": {
   "display_name": "Python 3",
   "language": "python",
   "name": "python3"
  },
  "language_info": {
   "codemirror_mode": {
    "name": "ipython",
    "version": 3
   },
   "file_extension": ".py",
   "mimetype": "text/x-python",
   "name": "python",
   "nbconvert_exporter": "python",
   "pygments_lexer": "ipython3",
   "version": "3.7.3"
  }
 },
 "nbformat": 4,
 "nbformat_minor": 2
}
