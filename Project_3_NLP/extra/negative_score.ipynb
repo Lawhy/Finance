{
 "cells": [
  {
   "cell_type": "code",
   "execution_count": null,
   "metadata": {},
   "outputs": [],
   "source": [
    "import pandas as pd\n",
    "import numpy as np\n",
    "import re\n",
    "import os\n",
    "from nltk import FreqDist"
   ]
  },
  {
   "cell_type": "code",
   "execution_count": null,
   "metadata": {},
   "outputs": [],
   "source": [
    "# Load the negative word list\n",
    "word_list = pd.read_excel('LoughranMcDonald_SentimentWordLists_2018.xlsx', sheet_name='Negative', encoding='UTF-8')"
   ]
  },
  {
   "cell_type": "code",
   "execution_count": null,
   "metadata": {},
   "outputs": [],
   "source": [
    "# transform all words into lower-cased\n",
    "word_list['negative word list'] = word_list['negative word list'].apply(lambda w: str(w).lower())"
   ]
  },
  {
   "cell_type": "code",
   "execution_count": null,
   "metadata": {},
   "outputs": [],
   "source": [
    "negative_word_list = word_list['negative word list'].tolist()"
   ]
  },
  {
   "cell_type": "code",
   "execution_count": null,
   "metadata": {},
   "outputs": [],
   "source": [
    "print(negative_word_list[0:3])"
   ]
  },
  {
   "cell_type": "code",
   "execution_count": null,
   "metadata": {},
   "outputs": [],
   "source": [
    "# remove the html contents\n",
    "def remove_html_tags(doc):\n",
    "    clean = re.compile('<.*?>')\n",
    "    return re.sub(clean, '', doc)"
   ]
  },
  {
   "cell_type": "code",
   "execution_count": null,
   "metadata": {},
   "outputs": [],
   "source": [
    "# extract English words along with their frequencies from raw document\n",
    "def gen_freq_dist(doc):\n",
    "    en = r'[a-zA-Z]+'\n",
    "    words = re.findall(en, remove_html_tags(text))\n",
    "    # to lower-cased\n",
    "    words = map(lambda w: w.lower(), words)\n",
    "    # transform raw word list into freq dist\n",
    "    freq_dist = FreqDist(words)\n",
    "    return freq_dist"
   ]
  },
  {
   "cell_type": "code",
   "execution_count": null,
   "metadata": {},
   "outputs": [],
   "source": [
    "# count the negative score\n",
    "def negative_score(doc):\n",
    "    global negative_word_list\n",
    "    freq_dist = gen_freq_dist(doc)\n",
    "    n_words = sum(freq_dist.values())\n",
    "    n_negative = np.sum(pd.DataFrame.from_dict(freq_dist, orient='index').index.isin(negative_word_list))\n",
    "    return n_negative / n_words"
   ]
  },
  {
   "cell_type": "code",
   "execution_count": null,
   "metadata": {},
   "outputs": [],
   "source": [
    "# test section\n",
    "with open('singleticker3/2499625', 'r', encoding='UTF-8-sig') as test:\n",
    "    text = ''.join(test.readlines())\n",
    "\n",
    "print('The negative score for the test score is ', negative_score(text))"
   ]
  },
  {
   "cell_type": "code",
   "execution_count": null,
   "metadata": {},
   "outputs": [],
   "source": [
    "# initialisation\n",
    "\n",
    "# please input the directory name, e.g. singleticker\n",
    "dir_name = ...\n",
    "\n",
    "# please input the start and end numbers, e.g. 1 to 100\n",
    "start = ...\n",
    "end = ..."
   ]
  },
  {
   "cell_type": "code",
   "execution_count": null,
   "metadata": {},
   "outputs": [],
   "source": [
    "result = pd.DataFrame(columns=['negative_score'])\n",
    "for i in range(start, end+1):\n",
    "    path = dir_name + str(i)\n",
    "    for file in os.listdir(path):\n",
    "        with open(path + '/' + file, 'r', encoding='UTF-8-sig') as f:\n",
    "            text = ''.join(f.readlines())\n",
    "            score = None\n",
    "            try:\n",
    "                score = negative_score(text)\n",
    "            except:\n",
    "                print('The negative score cannot be computed for file', file, '...')\n",
    "            result.loc[file] = score"
   ]
  },
  {
   "cell_type": "code",
   "execution_count": null,
   "metadata": {},
   "outputs": [],
   "source": [
    "result.to_excel(dir_name + '_negative_scores.xlsx')"
   ]
  }
 ],
 "metadata": {
  "kernelspec": {
   "display_name": "Python 3",
   "language": "python",
   "name": "python3"
  },
  "language_info": {
   "codemirror_mode": {
    "name": "ipython",
    "version": 3
   },
   "file_extension": ".py",
   "mimetype": "text/x-python",
   "name": "python",
   "nbconvert_exporter": "python",
   "pygments_lexer": "ipython3",
   "version": "3.7.3"
  }
 },
 "nbformat": 4,
 "nbformat_minor": 2
}
